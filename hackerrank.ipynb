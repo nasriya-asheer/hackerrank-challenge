{
 "cells": [
  {
   "cell_type": "code",
   "execution_count": 4,
   "id": "b7fe380e",
   "metadata": {},
   "outputs": [
    {
     "name": "stdout",
     "output_type": "stream",
     "text": [
      "Enter the value of n: 6\n",
      "[0, 1, 1, 8, 27, 125]\n"
     ]
    }
   ],
   "source": [
    "def fibonacci(n):\n",
    "    fibonacci_numbers = [0, 1] \n",
    "\n",
    "    for _ in range(2, n):\n",
    "        next_fibonacci = fibonacci_numbers[-1] + fibonacci_numbers[-2]\n",
    "        fibonacci_numbers.append(next_fibonacci)\n",
    "\n",
    "    return fibonacci_numbers\n",
    "n = int(input(\"Enter the value of n: \"))\n",
    "fibonacci_numbers = fibonacci(n)\n",
    "cubed_fibonacci = list(map(lambda x: x**3, fibonacci_numbers))\n",
    "print(cubed_fibonacci)\n",
    "\n"
   ]
  },
  {
   "cell_type": "code",
   "execution_count": null,
   "id": "6d83d55c",
   "metadata": {},
   "outputs": [],
   "source": []
  }
 ],
 "metadata": {
  "kernelspec": {
   "display_name": "Python 3 (ipykernel)",
   "language": "python",
   "name": "python3"
  },
  "language_info": {
   "codemirror_mode": {
    "name": "ipython",
    "version": 3
   },
   "file_extension": ".py",
   "mimetype": "text/x-python",
   "name": "python",
   "nbconvert_exporter": "python",
   "pygments_lexer": "ipython3",
   "version": "3.11.5"
  }
 },
 "nbformat": 4,
 "nbformat_minor": 5
}
